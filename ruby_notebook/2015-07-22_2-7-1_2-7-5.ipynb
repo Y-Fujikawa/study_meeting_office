{
 "cells": [
  {
   "cell_type": "markdown",
   "metadata": {},
   "source": [
    "2-7 主な組み込みクラス \n",
    "2-7-1 数値（Numeric）"
   ]
  },
  {
   "cell_type": "code",
   "execution_count": 4,
   "metadata": {
    "collapsed": false
   },
   "outputs": [
    {
     "name": "stdout",
     "output_type": "stream",
     "text": [
      "1\n",
      "[Fixnum, Integer, Numeric, Comparable, Object, PP::ObjectMixin, Kernel, BasicObject]\n",
      "[Float, Numeric, Comparable, Object, PP::ObjectMixin, Kernel, BasicObject]\n"
     ]
    },
    {
     "data": {
      "text/plain": [
       "[Float, Numeric, Comparable, Object, PP::ObjectMixin, Kernel, BasicObject]"
      ]
     },
     "execution_count": 4,
     "metadata": {},
     "output_type": "execute_result"
    }
   ],
   "source": [
    "# 復習\n",
    "p 1\n",
    "p Fixnum.ancestors\n",
    "p Float.ancestors"
   ]
  },
  {
   "cell_type": "code",
   "execution_count": 17,
   "metadata": {
    "collapsed": false
   },
   "outputs": [
    {
     "name": "stdout",
     "output_type": "stream",
     "text": [
      "5\n",
      "170\n",
      "6\n",
      "1000000000\n",
      "100000000000\n"
     ]
    },
    {
     "data": {
      "text/plain": [
       "100000000000"
      ]
     },
     "execution_count": 17,
     "metadata": {},
     "output_type": "execute_result"
    }
   ],
   "source": [
    "# 10進数\n",
    "p 0d5\n",
    "\n",
    "# 16進数\n",
    "p 0xAA\n",
    "\n",
    "# 2進数\n",
    "p 0b110\n",
    "\n",
    "# 大きな数字を見やすくする\n",
    "p 1_000_000_000\n",
    "\n",
    "#  アンダースコアはどこでも入るの？ ※できるけど、アンチパターン！\n",
    "p 1_0_0_00_000_0000"
   ]
  },
  {
   "cell_type": "markdown",
   "metadata": {},
   "source": [
    "2-7-2 文字列（String）\n",
    "ダブルクォートでは #{...} を用いた式展開ができます。"
   ]
  },
  {
   "cell_type": "code",
   "execution_count": 31,
   "metadata": {
    "collapsed": false
   },
   "outputs": [
    {
     "name": "stdout",
     "output_type": "stream",
     "text": [
      "\"result:\\\\t\\#{1+1}\"\n",
      "\"result:\\t2\"\n",
      "\"It's mine\"\n",
      "\"99 test, 99 hoge.\"\n",
      "\"  1行目\\n  2行目\\n\"\n",
      "\"\\#{foo}\\\\t\\#{bar}\\n\"\n",
      "\"It's \\#{weather}\"\n",
      "\"It's rainy\"\n",
      "\"It's rainy\"\n"
     ]
    },
    {
     "data": {
      "text/plain": [
       "\"It's rainy\""
      ]
     },
     "execution_count": 31,
     "metadata": {},
     "output_type": "execute_result"
    }
   ],
   "source": [
    "p 'result:\\t#{1+1}'\n",
    "p \"result:\\t#{1+1}\"\n",
    "\n",
    "p 'It\\'s mine'\n",
    "\n",
    "paragraph = \"99 test, \\\n",
    "99 hoge.\"\n",
    "p paragraph\n",
    "\n",
    "# 上記は使わずに << 演算子を用いる\n",
    "str = <<-EOS\n",
    "  1行目\n",
    "  2行目\n",
    "EOS\n",
    "p str\n",
    "\n",
    "str2 = <<'EOS'\n",
    "#{foo}\\t#{bar}\n",
    "EOS\n",
    "p str2\n",
    "\n",
    "weather = 'rainy'\n",
    "\n",
    "# 式展開とバックスラッシュ記法は無効\n",
    "p %q(It's #{weather})\n",
    "# 式展開できる\n",
    "p %(It's #{weather})\n",
    "p %Q(It's #{weather})"
   ]
  },
  {
   "cell_type": "markdown",
   "metadata": {},
   "source": [
    "2-7-3 シンボル（Symbol）  \n",
    "「:ruby」のように先頭にコロンをつけた文字の並びはシンボルリテラルです。  \n",
    "シンボルは文字列に似ていますが、読み書きのしやすさから「attr_accessor :lenght」のように  \n",
    "識別子やキーワード的な単語を表現するのに適しています。"
   ]
  },
  {
   "cell_type": "code",
   "execution_count": 34,
   "metadata": {
    "collapsed": false
   },
   "outputs": [
    {
     "name": "stdout",
     "output_type": "stream",
     "text": [
      ":ruby\n",
      ":ruby=\n"
     ]
    },
    {
     "data": {
      "text/plain": [
       ":ruby="
      ]
     },
     "execution_count": 34,
     "metadata": {},
     "output_type": "execute_result"
    }
   ],
   "source": [
    "p :ruby\n",
    "p :ruby="
   ]
  },
  {
   "cell_type": "markdown",
   "metadata": {},
   "source": [
    "2-7-4 配列（Array）  \n",
    "配列はブラケット（[]）の中に要素となる値をカンマ区切りで記述します。"
   ]
  },
  {
   "cell_type": "code",
   "execution_count": 49,
   "metadata": {
    "collapsed": false
   },
   "outputs": [
    {
     "name": "stdout",
     "output_type": "stream",
     "text": [
      "[\"Alice\", 4423, 3.14, nil, false]\n",
      "\"Alice\"\n",
      "\"Alice\"\n",
      "nil\n",
      "\"Carol\"\n",
      "\"Carol\"\n",
      "[\"Alice\", \"Bob\", \"Hoge\"]\n",
      "[\"Alice\", \"Bob\", \"Hoge\", nil, nil, \"Piyo\"]\n",
      "[\"Alice\", \"Bob\", \"Hoge\"]\n",
      "[\"Alice Bob\", \"Hoge Piyo\"]\n",
      "[:red, :bule, :green]\n"
     ]
    },
    {
     "data": {
      "text/plain": [
       "[:red, :bule, :green]"
      ]
     },
     "execution_count": 49,
     "metadata": {},
     "output_type": "execute_result"
    }
   ],
   "source": [
    "# 異なる要素を入れる\n",
    "array = ['Alice', 4423, 3.14, nil, false]\n",
    "p array\n",
    "p array[0]\n",
    "\n",
    "# 配列の要素の取り方\n",
    "people = ['Alice', 'Bob', 'Carol']\n",
    "\n",
    "p people[0]\n",
    "p people[10]\n",
    "p people[2]\n",
    "p people[-1]\n",
    "\n",
    "# 途中に新たな要素を格納\n",
    "people[2] = 'Hoge'\n",
    "p people\n",
    "\n",
    "people[5] = 'Piyo'\n",
    "p people\n",
    "\n",
    "# %を使った記法\n",
    "hoge2 = %w(Alice Bob Hoge)\n",
    "p hoge2\n",
    "hoge2 = %w(Alice\\ Bob Hoge\\ Piyo)\n",
    "p hoge2\n",
    "\n",
    "hoge3 = %i(red bule green)\n",
    "p hoge3"
   ]
  },
  {
   "cell_type": "markdown",
   "metadata": {},
   "source": [
    "2-7-5 ハッシュ（Hash）  \n",
    "ハッシュはいわゆる連想配列です。{ キー => 要素}"
   ]
  },
  {
   "cell_type": "code",
   "execution_count": 57,
   "metadata": {
    "collapsed": false
   },
   "outputs": [
    {
     "name": "stdout",
     "output_type": "stream",
     "text": [
      "\"piyo\"\n",
      "nil\n",
      "\"hoge\"\n",
      "\"piyo\"\n"
     ]
    },
    {
     "data": {
      "text/plain": [
       "\"piyo\""
      ]
     },
     "execution_count": 57,
     "metadata": {},
     "output_type": "execute_result"
    }
   ],
   "source": [
    "colors = {'red' => 'ff0000', 'green' => 'hoge', 'blue' => 'piyo'}\n",
    "\n",
    "# 要素を参照\n",
    "p colors['blue']\n",
    "p colors['black']\n",
    "\n",
    "# キーはシンボルがよく用いられる\n",
    "colors2 = {:red => 'ff0000', :green => 'hoge', :blue => 'piyo'}\n",
    "p colors2[:green]\n",
    "\n",
    "# 1.9以降では新しいリテラルが追加された。\n",
    "colors3 = {red: 'ff0000', green: 'hoge', blue: 'piyo'}\n",
    "p colors3[:blue]"
   ]
  }
 ],
 "metadata": {
  "kernelspec": {
   "display_name": "Ruby 2.2.0",
   "language": "ruby",
   "name": "ruby"
  },
  "language_info": {
   "file_extension": "rb",
   "mimetype": "text/ruby",
   "name": "ruby",
   "version": "2.2.0"
  }
 },
 "nbformat": 4,
 "nbformat_minor": 0
}
