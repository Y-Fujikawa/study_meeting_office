{
 "cells": [
  {
   "cell_type": "markdown",
   "metadata": {},
   "source": [
    "2-7-6 範囲（Range）  \n",
    "1..5 ： 5が含まれる  \n",
    "1...5 ： 5が含まれない"
   ]
  },
  {
   "cell_type": "code",
   "execution_count": 7,
   "metadata": {
    "collapsed": false
   },
   "outputs": [
    {
     "name": "stdout",
     "output_type": "stream",
     "text": [
      "true\n",
      "false\n",
      "2012-08-01 00:00:00 +0900\n",
      "2012-07-31 17:59:59 +0900\n",
      "\"a\"\n",
      "\"b\"\n",
      "\"c\"\n"
     ]
    },
    {
     "data": {
      "text/plain": [
       "\"a\"..\"c\""
      ]
     },
     "execution_count": 7,
     "metadata": {},
     "output_type": "execute_result"
    }
   ],
   "source": [
    "# 数値の場合\n",
    "p (1..5).include?(5)\n",
    "p (1...5).include?(5)\n",
    "\n",
    "# 日時の範囲\n",
    "vacation = Time.at(1343746800)..Time.at(1343725199)\n",
    "p vacation.begin\n",
    "p vacation.end\n",
    "\n",
    "# 繰り返し\n",
    "abc = ('a'..'c')\n",
    "abc.each do |c|\n",
    "    p c\n",
    "end"
   ]
  },
  {
   "cell_type": "markdown",
   "metadata": {},
   "source": [
    "2-7-7 正規表現（Regexp）"
   ]
  },
  {
   "cell_type": "code",
   "execution_count": 17,
   "metadata": {
    "collapsed": false
   },
   "outputs": [
    {
     "name": "stdout",
     "output_type": "stream",
     "text": [
      "true\n",
      "false\n",
      "4\n",
      "nil\n",
      "/\\/usr\\/bin/\n"
     ]
    },
    {
     "data": {
      "text/plain": [
       "/\\/usr\\/bin/"
      ]
     },
     "execution_count": 17,
     "metadata": {},
     "output_type": "execute_result"
    }
   ],
   "source": [
    "# 0から9までの数の並びにマッチする正規表現\n",
    "pattern = /[0-9]+/\n",
    "\n",
    "# マッチしたかを真偽値で返す\n",
    "p pattern === 'HAL 900'\n",
    "p pattern === 'hogehoge'\n",
    "\n",
    "# 最初にマッチした位置を返す\n",
    "p pattern =~ 'HAL 900'\n",
    "p pattern =~ 'hogehoge'\n",
    "\n",
    "# リテラルの中では式展開もできる￥\n",
    "name = \"hoge\"\n",
    "/hello, #{name}/\n",
    "\n",
    "/\\/user\\/bin/\n",
    "p %r(/usr/bin)\n"
   ]
  },
  {
   "cell_type": "markdown",
   "metadata": {},
   "source": [
    "2-7-8 %記法の括弧  \n",
    "%記法に使っている括弧には別の括弧や記号を使えます。"
   ]
  },
  {
   "cell_type": "code",
   "execution_count": 25,
   "metadata": {
    "collapsed": false
   },
   "outputs": [
    {
     "name": "stdout",
     "output_type": "stream",
     "text": [
      "\"paren(and paren)\"\n",
      "/\\/user\\/(bin|Lib)\\//\n",
      "\"content1\"\n",
      "\"content2\"\n",
      "\"content3\"\n",
      "\"content4\"\n"
     ]
    },
    {
     "data": {
      "text/plain": [
       "\"content4\""
      ]
     },
     "execution_count": 25,
     "metadata": {},
     "output_type": "execute_result"
    }
   ],
   "source": [
    "p %q{paren(and paren)}\n",
    "p %r{/user/(bin|Lib)/}\n",
    "\n",
    "# プレース以外の括弧類を使うこともできる。\n",
    "# 括弧類\n",
    "p %q<content1>\n",
    "p %q[content2]\n",
    "\n",
    "# 任意の記号\n",
    "p %q|content3|\n",
    "p %q!content4!"
   ]
  },
  {
   "cell_type": "markdown",
   "metadata": {},
   "source": [
    "2-7-9 手続きオブジェクト（Proc）  \n",
    "手続きオブジェクトは関数をオブジェクトとして表現したものです。"
   ]
  },
  {
   "cell_type": "code",
   "execution_count": 29,
   "metadata": {
    "collapsed": false
   },
   "outputs": [
    {
     "name": "stdout",
     "output_type": "stream",
     "text": [
      "Hello, Proc!\n",
      "nil\n",
      "Hello, Ruby!\n",
      "nil\n",
      "Hello, Proc!\n",
      "nil\n"
     ]
    }
   ],
   "source": [
    "greeter = Proc.new { |name|\n",
    "    puts \"Hello, #{name}!\"\n",
    "}\n",
    "\n",
    "p greeter.call 'Proc'\n",
    "p greeter.call 'Ruby'\n",
    "\n",
    "greeter2 = Proc.new { |name|\n",
    "    name = name.capitalize\n",
    "    puts \"Hello, #{name}!\"\n",
    "}\n",
    "\n",
    "p greeter2.call 'proc'\n",
    "\n",
    "# 使いドコロ\n",
    "# http://qiita.com/ryosukeA/items/64a4dc87fd00f5752090"
   ]
  },
  {
   "cell_type": "markdown",
   "metadata": {},
   "source": [
    "2-8 様々な代入式  \n",
    "2-8-1 多重代入"
   ]
  },
  {
   "cell_type": "code",
   "execution_count": 37,
   "metadata": {
    "collapsed": false
   },
   "outputs": [
    {
     "name": "stdout",
     "output_type": "stream",
     "text": [
      "1\n",
      "2\n",
      "1\n",
      "2\n",
      "1\n",
      "[2, 3, 4]\n",
      "1\n",
      "2\n",
      "nil\n",
      "\"g\"\n",
      "\"f\"\n"
     ]
    },
    {
     "data": {
      "text/plain": [
       "\"f\""
      ]
     },
     "execution_count": 37,
     "metadata": {},
     "output_type": "execute_result"
    }
   ],
   "source": [
    "# 右辺の数が多い場合、無視される\n",
    "a, b = 1, 2, 3\n",
    "p a\n",
    "p b\n",
    "\n",
    "a, b = [1, 2, 3]\n",
    "p a\n",
    "p b\n",
    "\n",
    "# 余った要素が配列として代入\n",
    "a, *b = [1, 2, 3, 4]\n",
    "p a\n",
    "p b\n",
    "\n",
    "# 左辺に対応する要素がない場合\n",
    "c, d, e = [1, 2]\n",
    "p c\n",
    "p d\n",
    "p e\n",
    "\n",
    "# 多重代入は変数の交換する際に良く使う\n",
    "f = 'f'\n",
    "g = 'g'\n",
    "\n",
    "f, g = g, f\n",
    "p f\n",
    "p g"
   ]
  },
  {
   "cell_type": "markdown",
   "metadata": {},
   "source": [
    "2-8-2 自己代入  \n",
    "演算結果を自身に代入し直す自己代入を行う。"
   ]
  },
  {
   "cell_type": "code",
   "execution_count": 40,
   "metadata": {
    "collapsed": false
   },
   "outputs": [
    {
     "name": "stdout",
     "output_type": "stream",
     "text": [
      "2\n",
      "2\n"
     ]
    },
    {
     "data": {
      "text/plain": [
       "2"
      ]
     },
     "execution_count": 40,
     "metadata": {},
     "output_type": "execute_result"
    }
   ],
   "source": [
    "# 計算式\n",
    "a = 1\n",
    "p a += 1\n",
    "\n",
    "p aa ||=2 # b = b || 2 と同じ"
   ]
  },
  {
   "cell_type": "markdown",
   "metadata": {},
   "source": [
    "2-9 例外"
   ]
  },
  {
   "cell_type": "code",
   "execution_count": 41,
   "metadata": {
    "collapsed": false
   },
   "outputs": [
    {
     "ename": "ZeroDivisionError",
     "evalue": "divided by 0",
     "output_type": "error",
     "traceback": [
      "\u001b[31mZeroDivisionError\u001b[0m: divided by 0",
      "\u001b[37m(pry):381:in `/'\u001b[0m",
      "\u001b[37m(pry):381:in `<main>'\u001b[0m",
      "\u001b[37m/Users/Y_Fujikawa/.rbenv/versions/2.2.0/lib/ruby/gems/2.2.0/gems/pry-0.10.1/lib/pry/pry_instance.rb:355:in `eval'\u001b[0m",
      "\u001b[37m/Users/Y_Fujikawa/.rbenv/versions/2.2.0/lib/ruby/gems/2.2.0/gems/pry-0.10.1/lib/pry/pry_instance.rb:355:in `evaluate_ruby'\u001b[0m",
      "\u001b[37m/Users/Y_Fujikawa/.rbenv/versions/2.2.0/lib/ruby/gems/2.2.0/gems/pry-0.10.1/lib/pry/pry_instance.rb:323:in `handle_line'\u001b[0m",
      "\u001b[37m/Users/Y_Fujikawa/.rbenv/versions/2.2.0/lib/ruby/gems/2.2.0/gems/pry-0.10.1/lib/pry/pry_instance.rb:243:in `block (2 levels) in eval'\u001b[0m",
      "\u001b[37m/Users/Y_Fujikawa/.rbenv/versions/2.2.0/lib/ruby/gems/2.2.0/gems/pry-0.10.1/lib/pry/pry_instance.rb:242:in `catch'\u001b[0m",
      "\u001b[37m/Users/Y_Fujikawa/.rbenv/versions/2.2.0/lib/ruby/gems/2.2.0/gems/pry-0.10.1/lib/pry/pry_instance.rb:242:in `block in eval'\u001b[0m",
      "\u001b[37m/Users/Y_Fujikawa/.rbenv/versions/2.2.0/lib/ruby/gems/2.2.0/gems/pry-0.10.1/lib/pry/pry_instance.rb:241:in `catch'\u001b[0m",
      "\u001b[37m/Users/Y_Fujikawa/.rbenv/versions/2.2.0/lib/ruby/gems/2.2.0/gems/pry-0.10.1/lib/pry/pry_instance.rb:241:in `eval'\u001b[0m",
      "\u001b[37m/Users/Y_Fujikawa/.rbenv/versions/2.2.0/lib/ruby/gems/2.2.0/gems/iruby-0.2.2/lib/iruby/backend.rb:64:in `eval'\u001b[0m",
      "\u001b[37m/Users/Y_Fujikawa/.rbenv/versions/2.2.0/lib/ruby/gems/2.2.0/gems/iruby-0.2.2/lib/iruby/backend.rb:12:in `eval'\u001b[0m",
      "\u001b[37m/Users/Y_Fujikawa/.rbenv/versions/2.2.0/lib/ruby/gems/2.2.0/gems/iruby-0.2.2/lib/iruby/kernel.rb:74:in `execute_request'\u001b[0m",
      "\u001b[37m/Users/Y_Fujikawa/.rbenv/versions/2.2.0/lib/ruby/gems/2.2.0/gems/iruby-0.2.2/lib/iruby/kernel.rb:41:in `run'\u001b[0m",
      "\u001b[37m/Users/Y_Fujikawa/.rbenv/versions/2.2.0/lib/ruby/gems/2.2.0/gems/iruby-0.2.2/lib/iruby/command.rb:76:in `run_kernel'\u001b[0m",
      "\u001b[37m/Users/Y_Fujikawa/.rbenv/versions/2.2.0/lib/ruby/gems/2.2.0/gems/iruby-0.2.2/lib/iruby/command.rb:33:in `run'\u001b[0m",
      "\u001b[37m/Users/Y_Fujikawa/.rbenv/versions/2.2.0/lib/ruby/gems/2.2.0/gems/iruby-0.2.2/bin/iruby:5:in `<top (required)>'\u001b[0m",
      "\u001b[37m/Users/Y_Fujikawa/.rbenv/versions/2.2.0/bin/iruby:23:in `load'\u001b[0m",
      "\u001b[37m/Users/Y_Fujikawa/.rbenv/versions/2.2.0/bin/iruby:23:in `<main>'\u001b[0m"
     ]
    }
   ],
   "source": [
    "1/ 0\n",
    "\n",
    "puts 'この行は実行されない'"
   ]
  },
  {
   "cell_type": "code",
   "execution_count": 42,
   "metadata": {
    "collapsed": false
   },
   "outputs": [
    {
     "name": "stdout",
     "output_type": "stream",
     "text": [
      "問題発生！\n"
     ]
    }
   ],
   "source": [
    "# 発生した例外に処理を行う場合\n",
    "begin\n",
    "    1 / 0\n",
    "rescue ZeroDivisionError\n",
    "    puts '問題発生！'\n",
    "end"
   ]
  },
  {
   "cell_type": "markdown",
   "metadata": {},
   "source": [
    "2-10 外部ファイルの読み込み"
   ]
  },
  {
   "cell_type": "code",
   "execution_count": 43,
   "metadata": {
    "collapsed": false,
    "scrolled": true
   },
   "outputs": [
    {
     "name": "stdout",
     "output_type": "stream",
     "text": [
      "\"HogeHoge\"\n"
     ]
    },
    {
     "data": {
      "text/plain": [
       "\"HogeHoge\""
      ]
     },
     "execution_count": 43,
     "metadata": {},
     "output_type": "execute_result"
    }
   ],
   "source": [
    "require './lib.rb'\n",
    "\n",
    "hoge"
   ]
  },
  {
   "cell_type": "code",
   "execution_count": 46,
   "metadata": {
    "collapsed": false
   },
   "outputs": [
    {
     "name": "stdout",
     "output_type": "stream",
     "text": [
      "\"HogeHoge\"\n"
     ]
    },
    {
     "data": {
      "text/plain": [
       "\"HogeHoge\""
      ]
     },
     "execution_count": 46,
     "metadata": {},
     "output_type": "execute_result"
    }
   ],
   "source": [
    "require './lib'\n",
    "\n",
    "hoge"
   ]
  }
 ],
 "metadata": {
  "kernelspec": {
   "display_name": "Ruby 2.2.0",
   "language": "ruby",
   "name": "ruby"
  },
  "language_info": {
   "file_extension": "rb",
   "mimetype": "text/ruby",
   "name": "ruby",
   "version": "2.2.0"
  }
 },
 "nbformat": 4,
 "nbformat_minor": 0
}
