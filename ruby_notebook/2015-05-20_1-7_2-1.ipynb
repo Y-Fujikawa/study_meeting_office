{
 "metadata": {
  "language": "ruby",
  "name": "",
  "signature": "sha256:170bab597584dc9e42ce175bc151bfe6e2c464e6a6ada72a9e64712d92ce87a8"
 },
 "nbformat": 3,
 "nbformat_minor": 0,
 "worksheets": [
  {
   "cells": [
    {
     "cell_type": "markdown",
     "metadata": {},
     "source": [
      "Ruby\u306e\u7a2e\u985e  \n",
      "\u30fbJRuby  \n",
      "   Java\u3067\u5b9f\u88c5\u3055\u308c\u305fRuby\u5b9f\u88c5\u3067\u3001Java\u306e\u30e9\u30a4\u30d6\u30e9\u30ea\u3092\u5229\u7528\u3059\u308b\u3053\u3068\u304c\u53ef\u80fd\u3002  \n",
      "\u30fbMacRuby  \n",
      "   Mac\u4e0a\u306eCocoa\u30d5\u30ec\u30fc\u30e0\u30ef\u30fc\u30af\u306a\u3069\u3092\u30b7\u30fc\u30e0\u30ec\u30b9\u306b\u6271\u3048\u308b\u3088\u3046\u306b\u5909\u66f4\u3092\u52a0\u3048\u3089\u308c\u305fRuby\u5b9f\u88c5  \n",
      "\u30fbRubinius  \n",
      "   Ruby\u306b\u3088\u3063\u3066\u5b9f\u88c5\u3055\u308c\u305fRuby\u5b9f\u88c5  \n",
      "\u30fbmruby  \n",
      "   \u307e\u3064\u3082\u3068\u3086\u304d\u3072\u308d\u6c0f\u4e3b\u5c0e\u3067\u958b\u767a\u3092\u9032\u3081\u3089\u308c\u3066\u3044\u308b\u300c\u7d44\u307f\u8fbc\u307f\u7528\u9014\u5411\u3051\u306e\u8efd\u91cf\u7248Ruby\u300d  \n",
      "\u30fbRubyMotion  \n",
      "   Ruby\u3067iPhone\u30a2\u30d7\u30ea\uff08\u30cd\u30a4\u30c6\u30a3\u30d6\u30a2\u30d7\u30ea\uff09\u3092\u4f5c\u6210\u3067\u304d\u308b  \n",
      "etc  \n",
      "  Java\u306b\u306fGroovy\u3068\u3044\u3046\u8a00\u8a9e\u304c\u3042\u308b\u3002  \n",
      "  \n",
      "  Ruby\u306e\u30b3\u30df\u30e5\u30cb\u30c6\u30a3  \n",
      "  \u30fb\u30e1\u30fc\u30ea\u30f3\u30b0\u30ea\u30b9\u30c8  \n",
      "  \u30fbRuby\u4f1a\u8b70  \n",
      "  \u30fb\u5730\u57dfRuby\u4f1a\u8b70  \n",
      "  \u30fb\u52c9\u5f37\u4f1a  "
     ]
    },
    {
     "cell_type": "code",
     "collapsed": false,
     "input": [
      "def hello(names)\n",
      "  names.each do |name|\n",
      "    puts \"HELLO, #{name.upcase}\"\n",
      "  end\n",
      "end\n",
      "\n",
      "rubies = ['MRI', 'jruby', 'rubinius']\n",
      "\n",
      "# \u30c8\u30c3\u30d7\u30ec\u30d9\u30eb\n",
      "# \u30c8\u30c3\u30d7\u30ec\u30d9\u30eb\u3067\u5b9a\u7fa9\u3055\u308c\u305f\u30e1\u30bd\u30c3\u30c9\u306f\n",
      "# \u30b0\u30ed\u30fc\u30d0\u30eb\u306a\u30b5\u30d6\u30eb\u30fc\u30c1\u30f3\u306e\u3088\u3046\u306b\u4f7f\u7528\u3059\u308b\u3053\u3068\u304c\u3067\u304d\u308b\n",
      "# \u30fb\u30e1\u30bd\u30c3\u30c9\u547c\u3073\u51fa\u3057\u306e\u969b\u3001\u30ec\u30b7\u30fc\u30d0\u3092\u8a18\u8ff0\u3057\u306a\u3044\n",
      "# \u30fb\u3044\u308f\u3086\u308b\u95a2\u6570\u306e\u3088\u3046\u306b\u3001\u3069\u3053\u304b\u3089\u3067\u3082\u30b0\u30ed\u30fc\u30d0\u30eb\u306b\u547c\u3073\u51fa\u3059\u3053\u3068\u304c\u3067\u304d\u308b\uff08\u3054\u304f\u4e00\u90e8\u3092\u9664\u304f\uff09\n",
      "hello(rubies)"
     ],
     "language": "python",
     "metadata": {},
     "outputs": [
      {
       "output_type": "stream",
       "stream": "stdout",
       "text": [
        "HELLO, MRI\n"
       ]
      },
      {
       "output_type": "stream",
       "stream": "stdout",
       "text": [
        "HELLO, JRUBY\n"
       ]
      },
      {
       "output_type": "stream",
       "stream": "stdout",
       "text": [
        "HELLO, RUBINIUS\n"
       ]
      },
      {
       "metadata": {},
       "output_type": "pyout",
       "prompt_number": 1,
       "text": [
        "[\"MRI\", \"jruby\", \"rubinius\"]"
       ]
      }
     ],
     "prompt_number": 1
    },
    {
     "cell_type": "markdown",
     "metadata": {},
     "source": [
      "puts\u3067\u306f\u3001\u30c0\u30d6\u30eb\u30af\u30a9\u30fc\u30c8\u3068\u30b7\u30f3\u30b0\u30eb\u30af\u30a9\u30fc\u30c8\u3067\u9055\u3044\u3042\u308b\u3002  \n",
      "\u30c0\u30d6\u30eb\u30af\u30a9\u30fc\u30c8\u3092\u4f7f\u3063\u305f\u6587\u5b57\u5217\u306e\u4e2d\u306b\u300c#{...}\u300d\u3067\u56f2\u3093\u3060Ruby\u306e\u30b3\u30fc\u30c9\u3092\u57cb\u3081\u8fbc\u3080\u3053\u3068\u304c\u3067\u304d\u308b\u3002  \n",
      "\u2192 \u300c\u5f0f\u5c55\u958b\u300d\u3068\u3044\u3046"
     ]
    },
    {
     "cell_type": "code",
     "collapsed": false,
     "input": [
      "def hello(names)\n",
      "  names.each do |name|\n",
      "    puts 'HELLO, #{name.upcase}'\n",
      "  end\n",
      "end\n",
      "\n",
      "rubies = ['MRI', 'jruby', 'rubinius']\n",
      "\n",
      "hello(rubies)"
     ],
     "language": "python",
     "metadata": {},
     "outputs": [
      {
       "output_type": "stream",
       "stream": "stdout",
       "text": [
        "HELLO, #{name.upcase}\n"
       ]
      },
      {
       "output_type": "stream",
       "stream": "stdout",
       "text": [
        "HELLO, #{name.upcase}\n"
       ]
      },
      {
       "output_type": "stream",
       "stream": "stdout",
       "text": [
        "HELLO, #{name.upcase}\n"
       ]
      },
      {
       "metadata": {},
       "output_type": "pyout",
       "prompt_number": 4,
       "text": [
        "[\"MRI\", \"jruby\", \"rubinius\"]"
       ]
      }
     ],
     "prompt_number": 4
    },
    {
     "cell_type": "markdown",
     "metadata": {},
     "source": [
      "\u30e1\u30bd\u30c3\u30c9\u547c\u3073\u51fa\u3057\u6642\u306e\u62ec\u5f27\u306f\u7701\u7565\u3059\u308b\u3053\u3068\u304c\u3067\u304d\u308b\u3002  \n",
      "\u4f8b\uff1aputs \"HELLO, #{name.upcase}\""
     ]
    },
    {
     "cell_type": "markdown",
     "metadata": {},
     "source": [
      "\u30e1\u30bd\u30c3\u30c9\u547c\u3073\u51fa\u3057  \n",
      "\u3000name.upcase  \n",
      "\u3000\u30ec\u30b7\u30fc\u30d0.\u30e1\u30bd\u30c3\u30c9\u540d  \n",
      " \n",
      " \u30d6\u30ed\u30c3\u30af  \n",
      " \u3000do \u301c end  \n",
      "    \u30d6\u30ed\u30c3\u30af\u306f\u624b\u7d9a\u304d\u3092\u3072\u3068\u307e\u3068\u3081\u306b\u3057\u305f\u3082\u306e  \n",
      "    \u3053\u306e\u3088\u3046\u306a\u30e1\u30bd\u30c3\u30c9\u3092\u300c\u30d6\u30ed\u30c3\u30af\u4ed8\u304d\u30e1\u30bd\u30c3\u30c9\u547c\u3073\u51fa\u3057\u300d\u3068\u8a00\u3046\u3002  "
     ]
    },
    {
     "cell_type": "code",
     "collapsed": false,
     "input": [
      "# \u4f8b\n",
      "File.open 'README.md' do |file|\n",
      "  puts file.read\n",
      " end"
     ],
     "language": "python",
     "metadata": {},
     "outputs": []
    },
    {
     "cell_type": "code",
     "collapsed": false,
     "input": [
      "# \u3053\u3046\u3044\u3046\u66f8\u304d\u65b9\u3082\u3067\u304d\u308b\n",
      "names.each { |name| puts 'HELLO, #{name.upcase}' }"
     ],
     "language": "python",
     "metadata": {},
     "outputs": []
    },
    {
     "cell_type": "code",
     "collapsed": false,
     "input": [
      "def add(a, b)\n",
      "  # \u30e1\u30bd\u30c3\u30c9\u306e\u623b\u308a\u5024\u306f\n",
      "  # \u305d\u306e\u30e1\u30bd\u30c3\u30c9\u306e\u4e2d\u3067\u6700\u5f8c\u306b\u8a55\u4fa1\u3055\u308c\u305f\u5f0f\u306e\u5024\u3068\u306a\u308b\u3002\n",
      "  a + b\n",
      "end\n",
      "\n",
      "add(1, 1)"
     ],
     "language": "python",
     "metadata": {},
     "outputs": [
      {
       "metadata": {},
       "output_type": "pyout",
       "prompt_number": 5,
       "text": [
        "2"
       ]
      }
     ],
     "prompt_number": 5
    },
    {
     "cell_type": "code",
     "collapsed": false,
     "input": [
      "def add(a, b)\n",
      "  return a + b\n",
      "  # \u9014\u4e2d\u3067\u30ea\u30bf\u30fc\u30f3\u3059\u308c\u3070\u3001\u305d\u308c\u4ee5\u964d\u306e\u51e6\u7406\u306f\u3055\u308c\u306a\u3044\u3002\n",
      "  puts '\u8868\u793a\u3055\u308c\u308b\u304b\uff1f\uff01'\n",
      "end\n",
      "\n",
      "add(1, 1)"
     ],
     "language": "python",
     "metadata": {},
     "outputs": [
      {
       "metadata": {},
       "output_type": "pyout",
       "prompt_number": 6,
       "text": [
        "2"
       ]
      }
     ],
     "prompt_number": 6
    },
    {
     "cell_type": "code",
     "collapsed": false,
     "input": [
      "name = 'ruby'; puts(name.upcase)\n",
      "# \u5b9f\u969b\u306b\u3053\u306e\u3088\u3046\u306a\u66f8\u304d\u65b9\u3092\u3059\u308b\u3053\u3068\u306f\u306a\u3044"
     ],
     "language": "python",
     "metadata": {},
     "outputs": [
      {
       "output_type": "stream",
       "stream": "stdout",
       "text": [
        "RUBY\n"
       ]
      }
     ],
     "prompt_number": 7
    },
    {
     "cell_type": "code",
     "collapsed": false,
     "input": [
      "# \u30de\u30eb\u30c1\u30b3\u30fc\u30c9\n",
      "# coding: utf-8\n",
      "\n",
      "# \u4e0a\u8a18\u306f\u30de\u30b8\u30c3\u30af\u30b3\u30e1\u30f3\u30c8\u3068\u547c\u3070\u308c\u3066\u3044\u308b\u3002\n",
      "# \u6700\u521d\u306e\u884c\u306b\u66f8\u304f\u306e\u304c\u666e\u901a\n",
      "\n",
      "# Ruby.2.0\u3067\u306f\u30c7\u30d5\u30a9\u30eb\u30c8\u306e\u30b9\u30af\u30ea\u30d7\u30c8\u30a8\u30f3\u30b3\u30fc\u30c7\u30a3\u30f3\u30b0\u306fUTF-8\u3002\n",
      "# \u30b3\u30fc\u30c9\u304cUTF-8\u3067\u8a18\u8ff0\u3055\u308c\u3066\u3044\u308b\u306e\u3067\u3042\u308c\u3070\u3001\u30de\u30b8\u30c3\u30af\u30b3\u30e1\u30f3\u30c8\u306f\u5fc5\u8981\u306a\u3044\u3002"
     ],
     "language": "python",
     "metadata": {},
     "outputs": []
    }
   ],
   "metadata": {}
  }
 ]
}