{
 "cells": [
  {
   "cell_type": "markdown",
   "metadata": {},
   "source": [
    "Rubyの種類  \n",
    "・JRuby  \n",
    "   Javaで実装されたRuby実装で、Javaのライブラリを利用することが可能。  \n",
    "・MacRuby  \n",
    "   Mac上のCocoaフレームワークなどをシームレスに扱えるように変更を加えられたRuby実装  \n",
    "・Rubinius  \n",
    "   Rubyによって実装されたRuby実装  \n",
    "・mruby  \n",
    "   まつもとゆきひろ氏主導で開発を進められている「組み込み用途向けの軽量版Ruby」  \n",
    "・RubyMotion  \n",
    "   RubyでiPhoneアプリ（ネイティブアプリ）を作成できる  \n",
    "etc  \n",
    "  JavaにはGroovyという言語がある。  \n",
    "  \n",
    "  Rubyのコミュニティ  \n",
    "  ・メーリングリスト  \n",
    "  ・Ruby会議  \n",
    "  ・地域Ruby会議  \n",
    "  ・勉強会  "
   ]
  },
  {
   "cell_type": "code",
   "execution_count": 1,
   "metadata": {
    "collapsed": false
   },
   "outputs": [
    {
     "name": "stdout",
     "output_type": "stream",
     "text": [
      "HELLO, MRI\n",
      "HELLO, JRUBY\n",
      "HELLO, RUBINIUS\n"
     ]
    },
    {
     "data": {
      "text/plain": [
       "[\"MRI\", \"jruby\", \"rubinius\"]"
      ]
     },
     "execution_count": 1,
     "metadata": {},
     "output_type": "execute_result"
    }
   ],
   "source": [
    "def hello(names)\n",
    "  names.each do |name|\n",
    "    puts \"HELLO, #{name.upcase}\"\n",
    "  end\n",
    "end\n",
    "\n",
    "rubies = ['MRI', 'jruby', 'rubinius']\n",
    "\n",
    "# トップレベル\n",
    "# トップレベルで定義されたメソッドは\n",
    "# グローバルなサブルーチンのように使用することができる\n",
    "# ・メソッド呼び出しの際、レシーバを記述しない\n",
    "# ・いわゆる関数のように、どこからでもグローバルに呼び出すことができる（ごく一部を除く）\n",
    "hello(rubies)"
   ]
  },
  {
   "cell_type": "markdown",
   "metadata": {},
   "source": [
    "putsでは、ダブルクォートとシングルクォートで違いある。  \n",
    "ダブルクォートを使った文字列の中に「#{...}」で囲んだRubyのコードを埋め込むことができる。  \n",
    "→ 「式展開」という"
   ]
  },
  {
   "cell_type": "code",
   "execution_count": 4,
   "metadata": {
    "collapsed": false
   },
   "outputs": [
    {
     "name": "stdout",
     "output_type": "stream",
     "text": [
      "HELLO, #{name.upcase}\n",
      "HELLO, #{name.upcase}\n",
      "HELLO, #{name.upcase}\n"
     ]
    },
    {
     "data": {
      "text/plain": [
       "[\"MRI\", \"jruby\", \"rubinius\"]"
      ]
     },
     "execution_count": 4,
     "metadata": {},
     "output_type": "execute_result"
    }
   ],
   "source": [
    "def hello(names)\n",
    "  names.each do |name|\n",
    "    puts 'HELLO, #{name.upcase}'\n",
    "  end\n",
    "end\n",
    "\n",
    "rubies = ['MRI', 'jruby', 'rubinius']\n",
    "\n",
    "hello(rubies)"
   ]
  },
  {
   "cell_type": "markdown",
   "metadata": {},
   "source": [
    "メソッド呼び出し時の括弧は省略することができる。  \n",
    "例：puts \"HELLO, #{name.upcase}\""
   ]
  },
  {
   "cell_type": "markdown",
   "metadata": {},
   "source": [
    "メソッド呼び出し  \n",
    "　name.upcase  \n",
    "　レシーバ.メソッド名  \n",
    " \n",
    " ブロック  \n",
    " 　do 〜 end  \n",
    "    ブロックは手続きをひとまとめにしたもの  \n",
    "    このようなメソッドを「ブロック付きメソッド呼び出し」と言う。  "
   ]
  },
  {
   "cell_type": "code",
   "execution_count": null,
   "metadata": {
    "collapsed": false
   },
   "outputs": [],
   "source": [
    "# 例\n",
    "File.open 'README.md' do |file|\n",
    "  puts file.read\n",
    " end"
   ]
  },
  {
   "cell_type": "code",
   "execution_count": null,
   "metadata": {
    "collapsed": false
   },
   "outputs": [],
   "source": [
    "# こういう書き方もできる\n",
    "names.each { |name| puts 'HELLO, #{name.upcase}' }"
   ]
  },
  {
   "cell_type": "code",
   "execution_count": 5,
   "metadata": {
    "collapsed": false
   },
   "outputs": [
    {
     "data": {
      "text/plain": [
       "2"
      ]
     },
     "execution_count": 5,
     "metadata": {},
     "output_type": "execute_result"
    }
   ],
   "source": [
    "def add(a, b)\n",
    "  # メソッドの戻り値は\n",
    "  # そのメソッドの中で最後に評価された式の値となる。\n",
    "  a + b\n",
    "end\n",
    "\n",
    "add(1, 1)"
   ]
  },
  {
   "cell_type": "code",
   "execution_count": 6,
   "metadata": {
    "collapsed": false
   },
   "outputs": [
    {
     "data": {
      "text/plain": [
       "2"
      ]
     },
     "execution_count": 6,
     "metadata": {},
     "output_type": "execute_result"
    }
   ],
   "source": [
    "def add(a, b)\n",
    "  return a + b\n",
    "  # 途中でリターンすれば、それ以降の処理はされない。\n",
    "  puts '表示されるか？！'\n",
    "end\n",
    "\n",
    "add(1, 1)"
   ]
  },
  {
   "cell_type": "code",
   "execution_count": 7,
   "metadata": {
    "collapsed": false
   },
   "outputs": [
    {
     "name": "stdout",
     "output_type": "stream",
     "text": [
      "RUBY\n"
     ]
    }
   ],
   "source": [
    "name = 'ruby'; puts(name.upcase)\n",
    "# 実際にこのような書き方をすることはない"
   ]
  },
  {
   "cell_type": "code",
   "execution_count": null,
   "metadata": {
    "collapsed": false
   },
   "outputs": [],
   "source": [
    "# マルチコード\n",
    "# coding: utf-8\n",
    "\n",
    "# 上記はマジックコメントと呼ばれている。\n",
    "# 最初の行に書くのが普通\n",
    "\n",
    "# Ruby.2.0ではデフォルトのスクリプトエンコーディングはUTF-8。\n",
    "# コードがUTF-8で記述されているのであれば、マジックコメントは必要ない。"
   ]
  }
 ],
 "metadata": {
  "kernelspec": {
   "display_name": "Ruby 2.2.0",
   "language": "ruby",
   "name": "ruby"
  },
  "language_info": {
   "file_extension": "rb",
   "mimetype": "text/ruby",
   "name": "ruby",
   "version": "2.2.0"
  }
 },
 "nbformat": 4,
 "nbformat_minor": 0
}
