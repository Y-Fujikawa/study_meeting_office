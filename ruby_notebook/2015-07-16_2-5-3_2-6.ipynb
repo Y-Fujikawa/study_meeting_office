{
 "cells": [
  {
   "cell_type": "markdown",
   "metadata": {},
   "source": [
    "2-5-3 self\n",
    "メソッドが属しているインスタンスをselfという名前の擬似変数で参照できる。  \n",
    "他の言語で言うとthisにあたる。"
   ]
  },
  {
   "cell_type": "code",
   "execution_count": 1,
   "metadata": {
    "collapsed": false
   },
   "outputs": [
    {
     "name": "stdout",
     "output_type": "stream",
     "text": [
      "30\n"
     ]
    }
   ],
   "source": [
    "class Ruler\n",
    "    attr_accessor :length\n",
    "    \n",
    "    def display_length\n",
    "        # Ruler#length の戻り値を出力している\n",
    "        puts length\n",
    "    end\n",
    "end\n",
    "\n",
    "ruler = Ruler.new\n",
    "ruler.length = 30\n",
    "\n",
    "ruler.display_length"
   ]
  },
  {
   "cell_type": "markdown",
   "metadata": {},
   "source": [
    "レシーバを省略できる場合には省略するのが普通です。  \n",
    "ただし、Ruler#length=のようなメソッド呼び出しのselfは省略できません。"
   ]
  },
  {
   "cell_type": "code",
   "execution_count": 4,
   "metadata": {
    "collapsed": false
   },
   "outputs": [
    {
     "data": {
      "text/plain": [
       "30"
      ]
     },
     "execution_count": 4,
     "metadata": {},
     "output_type": "execute_result"
    }
   ],
   "source": [
    "class Ruler\n",
    "    attr_accessor :length\n",
    "    \n",
    "    def set_default_length\n",
    "        # length = 30ではメソッドは呼び出されず、lengthという名前のローカル変数が定義される\n",
    "        self.length = 30\n",
    "    end\n",
    "end\n",
    "\n",
    "ruler = Ruler.new\n",
    "ruler.set_default_length\n",
    "\n",
    "ruler.length"
   ]
  },
  {
   "cell_type": "markdown",
   "metadata": {},
   "source": [
    "2-5-4 初期化  \n",
    "Rubyでの初期化はinitializeという名前のメソッドを定義します。  \n",
    "他の言語ではコンストラクタと呼ばれているものに相当します。"
   ]
  },
  {
   "cell_type": "code",
   "execution_count": 5,
   "metadata": {
    "collapsed": false
   },
   "outputs": [
    {
     "data": {
      "text/plain": [
       "30"
      ]
     },
     "execution_count": 5,
     "metadata": {},
     "output_type": "execute_result"
    }
   ],
   "source": [
    "class Ruler\n",
    "    attr_accessor :length\n",
    "    \n",
    "    def initialize(length)\n",
    "        @length = length\n",
    "    end\n",
    "end\n",
    "\n",
    "ruler = Ruler.new(30)\n",
    "ruler.length"
   ]
  },
  {
   "cell_type": "markdown",
   "metadata": {},
   "source": [
    "上記の例では、initializeでインスタンス変数@lengthを設定しています。  \n",
    "newの引数に渡した値は、initializeの仮引数として受け取ることができます。"
   ]
  },
  {
   "cell_type": "markdown",
   "metadata": {},
   "source": [
    "2-5-5 クラスメソッド  \n",
    "すべての値はオブジェクトとして扱われます。  \n",
    "クラスも例外ではなく、クラスに対してもメソッド呼び出しができます。  \n",
    "クラスに対して呼び出すことのできるメソッドをクラスメソッドと言います。\n",
    "\n",
    "クラスメソッドは、メソッド名の前にself.をつけて定義します。"
   ]
  },
  {
   "cell_type": "code",
   "execution_count": 12,
   "metadata": {
    "collapsed": false
   },
   "outputs": [
    {
     "data": {
      "text/plain": [
       "[#<Ruler2:0x007fbb9bb4d080>, #<Ruler2:0x007fbb9bb4d058>]"
      ]
     },
     "execution_count": 12,
     "metadata": {},
     "output_type": "execute_result"
    }
   ],
   "source": [
    "class Ruler2\n",
    "    attr_accessor :length\n",
    "    \n",
    "    def self.pair\n",
    "        [Ruler2.new, Ruler2.new]\n",
    "    end\n",
    "end\n",
    "\n",
    "Ruler2.pair"
   ]
  },
  {
   "cell_type": "markdown",
   "metadata": {},
   "source": [
    "クラスメソッドの中でのselfは、そのメソッドが属するクラスになります。  \n",
    "Ruler2.pairの中でnewのレシーバを省略して[new, new]と記述することもできます。"
   ]
  },
  {
   "cell_type": "markdown",
   "metadata": {},
   "source": [
    "2-5-6 クラス変数  \n",
    "クラスとそのインスタンスをスコープとした変数をクラス変数と言います。  \n",
    "クラス変数は「@@cvar」のように、@2つからはじまる名前で表記します。"
   ]
  },
  {
   "cell_type": "code",
   "execution_count": 14,
   "metadata": {
    "collapsed": false
   },
   "outputs": [
    {
     "name": "stdout",
     "output_type": "stream",
     "text": [
      "Hello, My class variable!\n",
      "Hello, My class variable!\n"
     ]
    }
   ],
   "source": [
    "class MyClass\n",
    "    @@cvar = 'Hello, My class variable!'\n",
    "    \n",
    "    def cvar_in_method\n",
    "        puts @@cvar\n",
    "    end\n",
    "    \n",
    "    def self.cvar_in_class_method\n",
    "        puts @@cvar\n",
    "    end\n",
    "end\n",
    "\n",
    "my_object = MyClass.new\n",
    "\n",
    "my_object.cvar_in_method\n",
    "MyClass.cvar_in_class_method"
   ]
  },
  {
   "cell_type": "markdown",
   "metadata": {},
   "source": [
    "2-5-7 継承  \n",
    "Rubyは単一継承をサポートしています。2つのクラスが継承関係にあるとき、継承されたほうをスーパークラス、継承したほうをサブクラスと言います。  \n",
    "クラスを継承するには、クラス定義の際、以下のように「<」でスーパークラスを指定します。\n",
    "\n",
    "class サブクラス名 < スーパークラス名\n",
    "end"
   ]
  },
  {
   "cell_type": "code",
   "execution_count": 16,
   "metadata": {
    "collapsed": false
   },
   "outputs": [
    {
     "name": "stdout",
     "output_type": "stream",
     "text": [
      "Hello, Parent class!!\n",
      "Hello, Child class!\n"
     ]
    }
   ],
   "source": [
    "# スーパークラス\n",
    "class Parent\n",
    "    def hello\n",
    "        puts 'Hello, Parent class!!'\n",
    "    end\n",
    "end\n",
    "\n",
    "# Parentを継承したChild\n",
    "class Child < Parent\n",
    "    def hi\n",
    "        puts 'Hello, Child class!'\n",
    "    end\n",
    "end\n",
    "\n",
    "child = Child.new\n",
    "child.hello\n",
    "child.hi"
   ]
  },
  {
   "cell_type": "code",
   "execution_count": 21,
   "metadata": {
    "collapsed": false,
    "scrolled": true
   },
   "outputs": [
    {
     "name": "stdout",
     "output_type": "stream",
     "text": [
      "Hello, Parent2 class!!\n",
      "Hello, Child2 class!!!!!\n",
      "Hello, Child2 class!\n"
     ]
    }
   ],
   "source": [
    "# スーパークラス\n",
    "class Parent2\n",
    "    def hello\n",
    "        puts 'Hello, Parent2 class!!'\n",
    "    end\n",
    "end\n",
    "\n",
    "# Parentを継承したChild\n",
    "class Child2 < Parent2\n",
    "    def hello\n",
    "        # superは、Parent#hello が呼び出される\n",
    "        super\n",
    "        \n",
    "        puts 'Hello, Child2 class!!!!!'\n",
    "    end\n",
    "    \n",
    "    def hi\n",
    "        puts 'Hello, Child2 class!'\n",
    "    end\n",
    "end\n",
    "\n",
    "child2 = Child2.new\n",
    "child2.hello\n",
    "child2.hi"
   ]
  },
  {
   "cell_type": "markdown",
   "metadata": {},
   "source": [
    "クラス定義時にスーパークラスを指定しない場合には、Objectクラスを継承したクラスが定義されます。何も継承しないクラスを定義することはできません。"
   ]
  },
  {
   "cell_type": "code",
   "execution_count": 26,
   "metadata": {
    "collapsed": false
   },
   "outputs": [
    {
     "data": {
      "text/plain": [
       "Object"
      ]
     },
     "execution_count": 26,
     "metadata": {},
     "output_type": "execute_result"
    }
   ],
   "source": [
    "class Whatever\n",
    "end\n",
    "\n",
    "Whatever.superclass"
   ]
  },
  {
   "cell_type": "markdown",
   "metadata": {},
   "source": [
    "2-6 モジュール  \n",
    "Rubyにはモジュールと呼ばれるクラスとよく似たものがあります。\n",
    "モジュールの特徴を一言で説明すると「インスタンス化できないクラスのようなもの」ということができます。\n",
    "\n",
    "module モジュール名\n",
    "end"
   ]
  },
  {
   "cell_type": "code",
   "execution_count": 28,
   "metadata": {
    "collapsed": false
   },
   "outputs": [
    {
     "data": {
      "text/plain": [
       "Whitespace2::Parser"
      ]
     },
     "execution_count": 28,
     "metadata": {},
     "output_type": "execute_result"
    }
   ],
   "source": [
    "module Brainfsck\n",
    "    class Parser\n",
    "        # 何かの処理\n",
    "    end\n",
    "end\n",
    "\n",
    "module Whitespace2\n",
    "    class Parser\n",
    "        # 何かの処理２\n",
    "    end\n",
    "end\n",
    "\n",
    "# ::を用いて参照する\n",
    "Brainfsck::Parser\n",
    "Whitespace2::Parser"
   ]
  },
  {
   "cell_type": "markdown",
   "metadata": {},
   "source": [
    "モジュール定義の中でもメソッド定義することができる。  \n",
    "クラスに定義したメソッドとは異なる用途に使われます。\n",
    "\n",
    "・あるクラスのインスタンスメソッドとして取り込む  \n",
    "・あるオブジェクトのメソッドとして取り込む  \n",
    "・モジュール関数として使う  \n"
   ]
  },
  {
   "cell_type": "code",
   "execution_count": 39,
   "metadata": {
    "collapsed": false
   },
   "outputs": [
    {
     "name": "stdout",
     "output_type": "stream",
     "text": [
      "Class\n"
     ]
    },
    {
     "data": {
      "text/plain": [
       "Class"
      ]
     },
     "execution_count": 39,
     "metadata": {},
     "output_type": "execute_result"
    }
   ],
   "source": [
    "module Whitespace3\n",
    "    class Parser3\n",
    "        # 何かの処理２\n",
    "    end\n",
    "end\n",
    "\n",
    "class Whitespace3::Parser4\n",
    "    # このクラス名はできない\n",
    "end\n",
    "\n",
    "p Whitespace3::Parser4.class"
   ]
  }
 ],
 "metadata": {
  "kernelspec": {
   "display_name": "Ruby 2.2.0",
   "language": "ruby",
   "name": "ruby"
  },
  "language_info": {
   "file_extension": "rb",
   "mimetype": "text/ruby",
   "name": "ruby",
   "version": "2.2.0"
  }
 },
 "nbformat": 4,
 "nbformat_minor": 0
}
