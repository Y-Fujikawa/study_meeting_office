{
 "cells": [
  {
   "cell_type": "markdown",
   "metadata": {},
   "source": [
    "## ローカル変数\n",
    "ローカル変数は局所変数とも呼ばれる。  \n",
    "最もスコープの狭い種類の変数。\n",
    "\n",
    "例：「ruby」「_Ruby」  \n",
    "のように先頭が小文字アルファベットかアンダースコアで始まる必要がある。\n",
    "\n",
    "ローカル変数は以下の範囲をスコープとしている。\n",
    "\n",
    "- ブロック\n",
    "- メソッド定義\n",
    "- クラス・モジュール定義\n",
    "- トップレベル\n"
   ]
  },
  {
   "cell_type": "code",
   "execution_count": 1,
   "metadata": {
    "collapsed": false
   },
   "outputs": [
    {
     "name": "stdout",
     "output_type": "stream",
     "text": [
      "foo is toplevel\n"
     ]
    },
    {
     "ename": "NameError",
     "evalue": "undefined local variable or method `foo' for main:Object",
     "output_type": "error",
     "traceback": [
      "\u001b[31mNameError\u001b[0m: undefined local variable or method `foo' for main:Object",
      "\u001b[37m(pry):4:in `display_foo'\u001b[0m",
      "\u001b[37m(pry):8:in `<main>'\u001b[0m",
      "\u001b[37m/Users/Y_Fujikawa/.rbenv/versions/2.2.0/lib/ruby/gems/2.2.0/gems/pry-0.10.1/lib/pry/pry_instance.rb:355:in `eval'\u001b[0m",
      "\u001b[37m/Users/Y_Fujikawa/.rbenv/versions/2.2.0/lib/ruby/gems/2.2.0/gems/pry-0.10.1/lib/pry/pry_instance.rb:355:in `evaluate_ruby'\u001b[0m",
      "\u001b[37m/Users/Y_Fujikawa/.rbenv/versions/2.2.0/lib/ruby/gems/2.2.0/gems/pry-0.10.1/lib/pry/pry_instance.rb:323:in `handle_line'\u001b[0m",
      "\u001b[37m/Users/Y_Fujikawa/.rbenv/versions/2.2.0/lib/ruby/gems/2.2.0/gems/pry-0.10.1/lib/pry/pry_instance.rb:243:in `block (2 levels) in eval'\u001b[0m",
      "\u001b[37m/Users/Y_Fujikawa/.rbenv/versions/2.2.0/lib/ruby/gems/2.2.0/gems/pry-0.10.1/lib/pry/pry_instance.rb:242:in `catch'\u001b[0m",
      "\u001b[37m/Users/Y_Fujikawa/.rbenv/versions/2.2.0/lib/ruby/gems/2.2.0/gems/pry-0.10.1/lib/pry/pry_instance.rb:242:in `block in eval'\u001b[0m",
      "\u001b[37m/Users/Y_Fujikawa/.rbenv/versions/2.2.0/lib/ruby/gems/2.2.0/gems/pry-0.10.1/lib/pry/pry_instance.rb:241:in `catch'\u001b[0m",
      "\u001b[37m/Users/Y_Fujikawa/.rbenv/versions/2.2.0/lib/ruby/gems/2.2.0/gems/pry-0.10.1/lib/pry/pry_instance.rb:241:in `eval'\u001b[0m",
      "\u001b[37m/Users/Y_Fujikawa/.rbenv/versions/2.2.0/lib/ruby/gems/2.2.0/gems/iruby-0.2.2/lib/iruby/backend.rb:64:in `eval'\u001b[0m",
      "\u001b[37m/Users/Y_Fujikawa/.rbenv/versions/2.2.0/lib/ruby/gems/2.2.0/gems/iruby-0.2.2/lib/iruby/backend.rb:12:in `eval'\u001b[0m",
      "\u001b[37m/Users/Y_Fujikawa/.rbenv/versions/2.2.0/lib/ruby/gems/2.2.0/gems/iruby-0.2.2/lib/iruby/kernel.rb:74:in `execute_request'\u001b[0m",
      "\u001b[37m/Users/Y_Fujikawa/.rbenv/versions/2.2.0/lib/ruby/gems/2.2.0/gems/iruby-0.2.2/lib/iruby/kernel.rb:41:in `run'\u001b[0m",
      "\u001b[37m/Users/Y_Fujikawa/.rbenv/versions/2.2.0/lib/ruby/gems/2.2.0/gems/iruby-0.2.2/lib/iruby/command.rb:76:in `run_kernel'\u001b[0m",
      "\u001b[37m/Users/Y_Fujikawa/.rbenv/versions/2.2.0/lib/ruby/gems/2.2.0/gems/iruby-0.2.2/lib/iruby/command.rb:33:in `run'\u001b[0m",
      "\u001b[37m/Users/Y_Fujikawa/.rbenv/versions/2.2.0/lib/ruby/gems/2.2.0/gems/iruby-0.2.2/bin/iruby:5:in `<top (required)>'\u001b[0m",
      "\u001b[37m/Users/Y_Fujikawa/.rbenv/versions/2.2.0/bin/iruby:23:in `load'\u001b[0m",
      "\u001b[37m/Users/Y_Fujikawa/.rbenv/versions/2.2.0/bin/iruby:23:in `<main>'\u001b[0m"
     ]
    }
   ],
   "source": [
    "foo = 'foo is toplevel'\n",
    "\n",
    "def display_foo\n",
    "    puts foo # エラーになります\n",
    "end\n",
    "\n",
    "puts foo # 表示される\n",
    "display_foo"
   ]
  },
  {
   "cell_type": "code",
   "execution_count": 2,
   "metadata": {
    "collapsed": false
   },
   "outputs": [
    {
     "ename": "NameError",
     "evalue": "undefined local variable or method `gretting' for main:Object",
     "output_type": "error",
     "traceback": [
      "\u001b[31mNameError\u001b[0m: undefined local variable or method `gretting' for main:Object",
      "\u001b[37m(pry):13:in `block in <main>'\u001b[0m",
      "\u001b[37m(pry):12:in `each'\u001b[0m",
      "\u001b[37m(pry):12:in `<main>'\u001b[0m",
      "\u001b[37m/Users/Y_Fujikawa/.rbenv/versions/2.2.0/lib/ruby/gems/2.2.0/gems/pry-0.10.1/lib/pry/pry_instance.rb:355:in `eval'\u001b[0m",
      "\u001b[37m/Users/Y_Fujikawa/.rbenv/versions/2.2.0/lib/ruby/gems/2.2.0/gems/pry-0.10.1/lib/pry/pry_instance.rb:355:in `evaluate_ruby'\u001b[0m",
      "\u001b[37m/Users/Y_Fujikawa/.rbenv/versions/2.2.0/lib/ruby/gems/2.2.0/gems/pry-0.10.1/lib/pry/pry_instance.rb:323:in `handle_line'\u001b[0m",
      "\u001b[37m/Users/Y_Fujikawa/.rbenv/versions/2.2.0/lib/ruby/gems/2.2.0/gems/pry-0.10.1/lib/pry/pry_instance.rb:243:in `block (2 levels) in eval'\u001b[0m",
      "\u001b[37m/Users/Y_Fujikawa/.rbenv/versions/2.2.0/lib/ruby/gems/2.2.0/gems/pry-0.10.1/lib/pry/pry_instance.rb:242:in `catch'\u001b[0m",
      "\u001b[37m/Users/Y_Fujikawa/.rbenv/versions/2.2.0/lib/ruby/gems/2.2.0/gems/pry-0.10.1/lib/pry/pry_instance.rb:242:in `block in eval'\u001b[0m",
      "\u001b[37m/Users/Y_Fujikawa/.rbenv/versions/2.2.0/lib/ruby/gems/2.2.0/gems/pry-0.10.1/lib/pry/pry_instance.rb:241:in `catch'\u001b[0m",
      "\u001b[37m/Users/Y_Fujikawa/.rbenv/versions/2.2.0/lib/ruby/gems/2.2.0/gems/pry-0.10.1/lib/pry/pry_instance.rb:241:in `eval'\u001b[0m",
      "\u001b[37m/Users/Y_Fujikawa/.rbenv/versions/2.2.0/lib/ruby/gems/2.2.0/gems/iruby-0.2.2/lib/iruby/backend.rb:64:in `eval'\u001b[0m",
      "\u001b[37m/Users/Y_Fujikawa/.rbenv/versions/2.2.0/lib/ruby/gems/2.2.0/gems/iruby-0.2.2/lib/iruby/backend.rb:12:in `eval'\u001b[0m",
      "\u001b[37m/Users/Y_Fujikawa/.rbenv/versions/2.2.0/lib/ruby/gems/2.2.0/gems/iruby-0.2.2/lib/iruby/kernel.rb:74:in `execute_request'\u001b[0m",
      "\u001b[37m/Users/Y_Fujikawa/.rbenv/versions/2.2.0/lib/ruby/gems/2.2.0/gems/iruby-0.2.2/lib/iruby/kernel.rb:41:in `run'\u001b[0m",
      "\u001b[37m/Users/Y_Fujikawa/.rbenv/versions/2.2.0/lib/ruby/gems/2.2.0/gems/iruby-0.2.2/lib/iruby/command.rb:76:in `run_kernel'\u001b[0m",
      "\u001b[37m/Users/Y_Fujikawa/.rbenv/versions/2.2.0/lib/ruby/gems/2.2.0/gems/iruby-0.2.2/lib/iruby/command.rb:33:in `run'\u001b[0m",
      "\u001b[37m/Users/Y_Fujikawa/.rbenv/versions/2.2.0/lib/ruby/gems/2.2.0/gems/iruby-0.2.2/bin/iruby:5:in `<top (required)>'\u001b[0m",
      "\u001b[37m/Users/Y_Fujikawa/.rbenv/versions/2.2.0/bin/iruby:23:in `load'\u001b[0m",
      "\u001b[37m/Users/Y_Fujikawa/.rbenv/versions/2.2.0/bin/iruby:23:in `<main>'\u001b[0m"
     ]
    }
   ],
   "source": [
    "greeting = \"Hello, \"\n",
    "pepole = ['Alice', 'Bob']\n",
    "\n",
    "pepole.each do |person|\n",
    "    # personのようなローカル変数は「ブロックローカル変数」と呼ばれる\n",
    "    puts gretting + person # 文字連結されたものが表示される\n",
    "end\n",
    "\n",
    "puts person # 参照できないため、エラーになる\n"
   ]
  },
  {
   "cell_type": "markdown",
   "metadata": {},
   "source": [
    "## グローバル変数\n",
    "非情に広いスコープを持つ変数。  \n",
    "$から始まる必要がある。\n",
    "\n",
    "グローバル変数はどこからでも参照・変更することができる。  \n",
    "プログラム全体が大きくなれば読みにくくなるので、必要なければ使うべきではありません。\n"
   ]
  },
  {
   "cell_type": "code",
   "execution_count": null,
   "metadata": {
    "collapsed": true
   },
   "outputs": [],
   "source": [
    "$foobar = 'barbaz'\n",
    "$undefined # 存在しないグローバル変数を参照した場合はnilになる"
   ]
  },
  {
   "cell_type": "markdown",
   "metadata": {},
   "source": [
    "## 定数\n",
    "変化しない値を使う際に定数を用いる。  \n",
    "定数名は大文字アルファベットで始まる必要がある。\n"
   ]
  },
  {
   "cell_type": "code",
   "execution_count": 8,
   "metadata": {
    "collapsed": false
   },
   "outputs": [
    {
     "name": "stderr",
     "output_type": "stream",
     "text": [
      "(pry):37: warning: already initialized constant TEST_HOGE\n",
      "(pry):34: warning: previous definition of TEST_HOGE was here\n"
     ]
    },
    {
     "name": "stdout",
     "output_type": "stream",
     "text": [
      "bar\n"
     ]
    },
    {
     "name": "stderr",
     "output_type": "stream",
     "text": [
      "(pry):42: warning: already initialized constant TEST_HOGE\n",
      "(pry):37: warning: previous definition of TEST_HOGE was here\n"
     ]
    },
    {
     "name": "stdout",
     "output_type": "stream",
     "text": [
      "foo\n"
     ]
    }
   ],
   "source": [
    "TEST_HOGE = 'bar'\n",
    "\n",
    "puts TEST_HOGE\n",
    "\n",
    "# Bad : 定数を再定義できるが、やっちゃダメ\n",
    "TEST_HOGE = 'foo'\n",
    "\n",
    "puts TEST_HOGE"
   ]
  },
  {
   "cell_type": "code",
   "execution_count": 9,
   "metadata": {
    "collapsed": false
   },
   "outputs": [
    {
     "name": "stdout",
     "output_type": "stream",
     "text": [
      "SyntaxError: (eval):4: dynamic constant assignment\n",
      "    PIYO_PIYO = 'bar'\n",
      "               ^\n"
     ]
    }
   ],
   "source": [
    "# 定数をメソッドの中で定義することはできない → 文法エラーとなる\n",
    "def set_foo\n",
    "    PIYO_PIYO = 'bar'\n",
    "end\n",
    "\n",
    "set_foo"
   ]
  },
  {
   "cell_type": "markdown",
   "metadata": {},
   "source": [
    "## 条件分岐と真偽値\n",
    "実際にサンプルソースを記述して確認していく。"
   ]
  },
  {
   "cell_type": "code",
   "execution_count": 10,
   "metadata": {
    "collapsed": false
   },
   "outputs": [
    {
     "name": "stdout",
     "output_type": "stream",
     "text": [
      "ping\n"
     ]
    }
   ],
   "source": [
    "if true\n",
    "    puts 'ping'\n",
    "end\n",
    "\n",
    "# trueは真を表す擬似変数です。\n",
    "# trueに対して、falseは偽を表します。"
   ]
  },
  {
   "cell_type": "code",
   "execution_count": 14,
   "metadata": {
    "collapsed": false
   },
   "outputs": [
    {
     "name": "stdout",
     "output_type": "stream",
     "text": [
      "ping\n",
      "何も出ませんよ\n",
      "0\n"
     ]
    }
   ],
   "source": [
    "# 条件式には文字列や数値などを与えることもできます。\n",
    "# Rubyでは falseとnil以外はすべての値を真として扱われる。\n",
    "\n",
    "str = 'ping'\n",
    "\n",
    "if str\n",
    "    puts str\n",
    "end\n",
    "\n",
    "str2 = nil\n",
    "\n",
    "if str2\n",
    "    puts str2\n",
    "else\n",
    "    puts '何も出ませんよ'\n",
    "end\n",
    "\n",
    "str3 = 0\n",
    "\n",
    "if str3\n",
    "    puts str3\n",
    "else\n",
    "    puts '何も出ませんよ2'\n",
    "end"
   ]
  },
  {
   "cell_type": "code",
   "execution_count": 15,
   "metadata": {
    "collapsed": false
   },
   "outputs": [
    {
     "name": "stdout",
     "output_type": "stream",
     "text": [
      "piyo\n"
     ]
    }
   ],
   "source": [
    "# falseの動作確認\n",
    "if false\n",
    "    puts 'hoge'\n",
    "else\n",
    "    puts 'piyo'\n",
    "end"
   ]
  },
  {
   "cell_type": "code",
   "execution_count": 26,
   "metadata": {
    "collapsed": false
   },
   "outputs": [
    {
     "name": "stdout",
     "output_type": "stream",
     "text": [
      "偶数でした\n"
     ]
    }
   ],
   "source": [
    "# Ruby : elsif , Java : else if\n",
    "n = 2\n",
    "\n",
    "if n.zero?\n",
    "    puts '0でした'\n",
    "elsif n.even?\n",
    "    puts '偶数でした'\n",
    "elsif n.odd?\n",
    "    puts '奇数でした'\n",
    "else\n",
    "    puts 'わかりません'\n",
    "end"
   ]
  },
  {
   "cell_type": "code",
   "execution_count": 34,
   "metadata": {
    "collapsed": false
   },
   "outputs": [
    {
     "name": "stdout",
     "output_type": "stream",
     "text": [
      "野菜\n",
      "Test2\n"
     ]
    }
   ],
   "source": [
    "# 式について\n",
    "val = 'Hello'\n",
    "\n",
    "if true\n",
    "    'Hello2'\n",
    "end\n",
    "\n",
    "val\n",
    "443\n",
    "\n",
    "# Q. switch caseはありますか？\n",
    "# A. あります\n",
    "m = 'トマト'\n",
    "\n",
    "case m\n",
    "when 'トマト'\n",
    "    puts '野菜'\n",
    "when 'スイカ'\n",
    "    puts '野菜2'\n",
    "when 'いちご'\n",
    "    puts '野菜3'\n",
    "else\n",
    "    puts '果物'\n",
    "end\n",
    "\n",
    "a1 = 1\n",
    "a2 = 1\n",
    "\n",
    "unless a1 == a2\n",
    "    puts 'Test'\n",
    "else\n",
    "    puts 'Test2'\n",
    "end\n"
   ]
  },
  {
   "cell_type": "markdown",
   "metadata": {},
   "source": [
    "## クラス\n",
    "###クラスの定義式\n",
    "class クラス名\n",
    "end\n",
    "\n",
    "クラス定義内で定義したメソッドは、そのクラスのインスタンスに対して呼び出せる。\n",
    "これはインスタンスメソッド、あるいは単純にメソッドと言います。"
   ]
  },
  {
   "cell_type": "code",
   "execution_count": 36,
   "metadata": {
    "collapsed": false
   },
   "outputs": [
    {
     "name": "stdout",
     "output_type": "stream",
     "text": [
      "Hello\n"
     ]
    }
   ],
   "source": [
    "class MyClass\n",
    "    def hello\n",
    "        puts 'Hello'\n",
    "    end\n",
    "end\n",
    "\n",
    "my_object = MyClass.new\n",
    "my_object.hello"
   ]
  },
  {
   "cell_type": "markdown",
   "metadata": {},
   "source": [
    "## インスタンス変数\n",
    "インスタンスの中だけで参照できる変数のこと。\n",
    "インスタン変数は「@length」のように＠から始まる名前で表記する。"
   ]
  },
  {
   "cell_type": "code",
   "execution_count": 41,
   "metadata": {
    "collapsed": false
   },
   "outputs": [
    {
     "data": {
      "text/plain": [
       "3"
      ]
     },
     "execution_count": 41,
     "metadata": {},
     "output_type": "execute_result"
    }
   ],
   "source": [
    "class Ruler\n",
    "    def length=(val)\n",
    "        @length = val\n",
    "    end\n",
    "    \n",
    "    def length\n",
    "        @length\n",
    "    end\n",
    "end\n",
    "\n",
    "ruler = Ruler.new\n",
    "\n",
    "ruler.length = 30\n",
    "ruler.length\n",
    "\n",
    "# 「length=」ような名前のメソッドが定義できることは新鮮。\n",
    "# Rubyではインスタンス変数へ代入を行うメソッド名には末尾にイコールをつけます。\n",
    "# このようなメソッドの呼び出しには、シンタックスシュガーが用意されており「ruler.length = 30」と代入のように記述できます。\n",
    "#\n",
    "# 例：1.+(2) → 1 + 2と同等"
   ]
  },
  {
   "cell_type": "code",
   "execution_count": 44,
   "metadata": {
    "collapsed": false
   },
   "outputs": [
    {
     "name": "stdout",
     "output_type": "stream",
     "text": [
      "40\n"
     ]
    }
   ],
   "source": [
    "# 実際にはattr_accessorを用いる\n",
    "class Ruler2\n",
    "    attr_accessor :length2\n",
    "    \n",
    "    # length2を参照できるか？\n",
    "    def hoge_hoge\n",
    "        puts @length2 + 20\n",
    "    end\n",
    "end\n",
    "\n",
    "ruler2 = Ruler2.new\n",
    "\n",
    "ruler2.length2 = 20\n",
    "ruler2.length2\n",
    "\n",
    "ruler2.hoge_hoge"
   ]
  }
 ],
 "metadata": {
  "kernelspec": {
   "display_name": "Ruby 2.2.0",
   "language": "ruby",
   "name": "ruby"
  },
  "language_info": {
   "file_extension": "rb",
   "mimetype": "text/ruby",
   "name": "ruby",
   "version": "2.2.0"
  }
 },
 "nbformat": 4,
 "nbformat_minor": 0
}
